{
 "cells": [
  {
   "cell_type": "markdown",
   "id": "e8d22d05",
   "metadata": {
    "pycharm": {
     "name": "#%% md\n"
    }
   },
   "source": [
    "<h1>Group assignment team 11</h1>"
   ]
  },
  {
   "cell_type": "code",
   "execution_count": 85,
   "outputs": [],
   "source": [
    "import matplotlib.pyplot as plt\n",
    "import numpy as np\n",
    "import os\n",
    "import seaborn as sns\n",
    "\n",
    "\n",
    "import rdkit\n",
    "from rdkit.Chem import Descriptors\n",
    "from rdkit.Chem import AllChem\n",
    "from rdkit.Chem import Draw\n",
    "from rdkit.Chem.Draw import IPythonConsole\n",
    "\n",
    "import pandas as pd\n",
    "from rdkit import Chem\n",
    "from rdkit.Chem import Draw\n",
    "from rdkit.Chem import PandasTools\n",
    "from rdkit import DataStructs\n",
    "\n",
    "import ptitprince as pt\n",
    "\n",
    "#randomforestclassifier\n",
    "from sklearn.model_selection import train_test_split\n",
    "from sklearn.ensemble import RandomForestClassifier\n",
    "from sklearn.metrics import confusion_matrix"
   ],
   "metadata": {
    "collapsed": false,
    "pycharm": {
     "name": "#%%\n"
    }
   }
  },
  {
   "cell_type": "markdown",
   "source": [
    "<h2>Datset Preperations</h2>"
   ],
   "metadata": {
    "collapsed": false,
    "pycharm": {
     "name": "#%% md\n"
    }
   }
  },
  {
   "cell_type": "code",
   "execution_count": 86,
   "id": "e2e61e9c",
   "metadata": {},
   "outputs": [],
   "source": [
    "df = pd.read_csv('tested_molecules-1.csv')\n",
    "smiles_good_inhibitor = df[df['ALDH1_inhibition'] == 1].reset_index()\n",
    "smiles_bad_inhibitor = df[df['ALDH1_inhibition'] == 0].reset_index()"
   ]
  },
  {
   "cell_type": "code",
   "execution_count": 87,
   "id": "ed246bb2",
   "metadata": {},
   "outputs": [],
   "source": [
    "def plot_mol (smiles_df, molecule_index):\n",
    "    smiles = smiles_df['SMILES'][molecule_index]\n",
    "    mol =Chem.MolFromSmiles(smiles)\n",
    "    Draw.MolToMPL(mol, size=(200, 200))\n"
   ]
  },
  {
   "cell_type": "code",
   "execution_count": 88,
   "id": "8583ef8c",
   "metadata": {},
   "outputs": [],
   "source": [
    "def plot_list_mol(smiles_df):\n",
    "    mol_list = []\n",
    "    for smiles in smiles_df:\n",
    "        for smiles in smiles_df['SMILES']:    # assuming your column is called Smiles\n",
    "            mol = Chem.MolFromSmiles(smiles)\n",
    "            Chem.SanitizeMol(mol,sanitizeOps=Chem.SANITIZE_SYMMRINGS|Chem.SANITIZE_SETCONJUGATION|Chem.SANITIZE_SETHYBRIDIZATION)\n",
    "            mol.Compute2DCoords()\n",
    "            mol_list.append(mol)\n",
    "            Draw.MolToMPL(mol, size=(200, 200))"
   ]
  },
  {
   "cell_type": "code",
   "execution_count": 89,
   "id": "a4c5e4b1",
   "metadata": {},
   "outputs": [],
   "source": [
    "data = df.copy(deep=True)\n",
    "molecules = data.SMILES.apply(Chem.MolFromSmiles)\n",
    "data.loc[:, 'MolLogP'] = molecules.apply(Descriptors.MolLogP)\n",
    "data.loc[:, 'HeavyAtomCount'] = molecules.apply(Descriptors.HeavyAtomCount)\n",
    "data.loc[:, 'HAccept'] = molecules.apply(Descriptors.NumHAcceptors)\n",
    "data.loc[:, 'Heteroatoms'] = molecules.apply(Descriptors.NumHeteroatoms)\n",
    "data.loc[:, 'HDonor'] = molecules.apply(Descriptors.NumHDonors)\n",
    "data.loc[:, 'MolWt'] = molecules.apply(Descriptors.MolWt)\n",
    "data.loc[:, 'RotableBonds'] = molecules.apply(Descriptors.NumRotatableBonds)\n",
    "data.loc[:, 'RingCount'] = molecules.apply(Descriptors.RingCount)\n",
    "data.loc[:, 'Ipc'] = molecules.apply(Descriptors.Ipc)\n",
    "data.loc[:, 'HallKierAlpha'] = molecules.apply(Descriptors.HallKierAlpha)\n",
    "data.loc[:, 'NumValenceElectrons'] = molecules.apply(Descriptors.NumValenceElectrons)\n",
    "data.loc[:, 'SaturatedRings'] = molecules.apply(Descriptors.NumSaturatedRings)\n",
    "data.loc[:, 'AliphaticRings'] = molecules.apply(Descriptors.NumAliphaticRings)\n",
    "data.loc[:, 'AromaticRings'] = molecules.apply(Descriptors.NumAromaticRings)\n",
    "data.loc[:, 'Heterocycles'] = molecules.apply(Descriptors.NumAromaticHeterocycles)\n",
    "data.loc[:, 'AmideBonds'] = [AllChem.CalcNumAmideBonds(x) for x in molecules]\n",
    "data.loc[:, 'LipinskiHBA'] = [AllChem.CalcNumLipinskiHBA(x) for x in molecules]\n",
    "data.loc[:, 'LipinskiHBD'] = [AllChem.CalcNumLipinskiHBD(x) for x in molecules]"
   ]
  },
  {
   "cell_type": "code",
   "execution_count": 90,
   "id": "7524349f",
   "metadata": {},
   "outputs": [
    {
     "data": {
      "text/plain": "                                                SMILES  ALDH1_inhibition   \n0    COc1ccccc1CC(NC(C)=O)C(=O)NC1CCN(c2nnnn2-c2ccc...                 1  \\\n1               O=C(CSc1nc2cccnc2n1Cc1ccccc1)NCc1ccco1                 1   \n2    Cc1cccc2cc(C[NH+](CC3CCCO3)C(c3nnnn3Cc3ccco3)C...                 1   \n3                    CCN(CC)c1ccc2c(Cl)c(Br)c(=O)oc2c1                 1   \n4    CS(=O)(=O)N1CCc2cc(-c3csc(NC(=O)Cc4cccs4)n3)ccc21                 1   \n..                                                 ...               ...   \n995             COc1ccc(N2C(=O)CC([NH2+]C3CC3)C2=O)cc1                 0   \n996                       CCNc1oc(COc2cccc(C)c2)nc1C#N                 0   \n997                          NC(=O)Cn1cnc(-c2ccccc2)c1                 0   \n998  Cc1cc(NC(=O)CSc2nc3c(c(=O)n(C)c(=O)n3C)n2C(C)C...                 0   \n999          O=C(Cn1nnc2c(cnn2-c2ccccc2)c1=O)NCc1cccs1                 0   \n\n     MolLogP  HeavyAtomCount  HAccept  Heteroatoms  HDonor    MolWt   \n0    1.50330              34        8           10       2  463.542  \\\n1    3.48110              27        6            7       1  378.457   \n2    2.83782              35        8            9       2  477.589   \n3    4.05510              18        3            5       0  330.609   \n4    3.37490              27        6            9       1  419.553   \n..       ...             ...      ...          ...     ...      ...   \n995  0.05290              19        3            5       1  261.301   \n996  2.86550              19        5            5       1  257.293   \n997  1.03540              15        3            4       1  201.229   \n998  1.04182              27       10           11       1  392.441   \n999  1.35510              26        8            9       1  366.406   \n\n     RotableBonds  RingCount           Ipc  HallKierAlpha   \n0               8          4  6.958111e+07          -3.95  \\\n1               7          4  3.137659e+06          -3.06   \n2               9          5  1.436707e+08          -3.30   \n3               3          2  1.207136e+04          -1.00   \n4               5          4  1.948182e+06          -2.23   \n..            ...        ...           ...            ...   \n995             4          3  4.581294e+04          -1.88   \n996             5          2  2.727871e+04          -2.48   \n997             3          2  4.126498e+03          -2.10   \n998             5          3  1.115768e+06          -2.82   \n999             5          4  1.794217e+06          -3.33   \n\n     NumValenceElectrons  SaturatedRings  AliphaticRings  AromaticRings   \n0                    178               1               1              3  \\\n1                    136               0               0              4   \n2                    184               1               1              4   \n3                     96               0               0              2   \n4                    140               0               1              3   \n..                   ...             ...             ...            ...   \n995                  100               2               2              1   \n996                   98               0               0              2   \n997                   76               0               0              2   \n998                  144               0               0              3   \n999                  130               0               0              4   \n\n     Heterocycles  AmideBonds  LipinskiHBA  LipinskiHBD  \n0               1           2           10            2  \n1               3           1            6            1  \n2               3           0            9            2  \n3               1           0            3            0  \n4               2           1            6            1  \n..            ...         ...          ...          ...  \n995             0           2            5            2  \n996             1           0            5            1  \n997             1           1            4            2  \n998             3           1           10            1  \n999             3           1            8            1  \n\n[1000 rows x 20 columns]",
      "text/html": "<div>\n<style scoped>\n    .dataframe tbody tr th:only-of-type {\n        vertical-align: middle;\n    }\n\n    .dataframe tbody tr th {\n        vertical-align: top;\n    }\n\n    .dataframe thead th {\n        text-align: right;\n    }\n</style>\n<table border=\"1\" class=\"dataframe\">\n  <thead>\n    <tr style=\"text-align: right;\">\n      <th></th>\n      <th>SMILES</th>\n      <th>ALDH1_inhibition</th>\n      <th>MolLogP</th>\n      <th>HeavyAtomCount</th>\n      <th>HAccept</th>\n      <th>Heteroatoms</th>\n      <th>HDonor</th>\n      <th>MolWt</th>\n      <th>RotableBonds</th>\n      <th>RingCount</th>\n      <th>Ipc</th>\n      <th>HallKierAlpha</th>\n      <th>NumValenceElectrons</th>\n      <th>SaturatedRings</th>\n      <th>AliphaticRings</th>\n      <th>AromaticRings</th>\n      <th>Heterocycles</th>\n      <th>AmideBonds</th>\n      <th>LipinskiHBA</th>\n      <th>LipinskiHBD</th>\n    </tr>\n  </thead>\n  <tbody>\n    <tr>\n      <th>0</th>\n      <td>COc1ccccc1CC(NC(C)=O)C(=O)NC1CCN(c2nnnn2-c2ccc...</td>\n      <td>1</td>\n      <td>1.50330</td>\n      <td>34</td>\n      <td>8</td>\n      <td>10</td>\n      <td>2</td>\n      <td>463.542</td>\n      <td>8</td>\n      <td>4</td>\n      <td>6.958111e+07</td>\n      <td>-3.95</td>\n      <td>178</td>\n      <td>1</td>\n      <td>1</td>\n      <td>3</td>\n      <td>1</td>\n      <td>2</td>\n      <td>10</td>\n      <td>2</td>\n    </tr>\n    <tr>\n      <th>1</th>\n      <td>O=C(CSc1nc2cccnc2n1Cc1ccccc1)NCc1ccco1</td>\n      <td>1</td>\n      <td>3.48110</td>\n      <td>27</td>\n      <td>6</td>\n      <td>7</td>\n      <td>1</td>\n      <td>378.457</td>\n      <td>7</td>\n      <td>4</td>\n      <td>3.137659e+06</td>\n      <td>-3.06</td>\n      <td>136</td>\n      <td>0</td>\n      <td>0</td>\n      <td>4</td>\n      <td>3</td>\n      <td>1</td>\n      <td>6</td>\n      <td>1</td>\n    </tr>\n    <tr>\n      <th>2</th>\n      <td>Cc1cccc2cc(C[NH+](CC3CCCO3)C(c3nnnn3Cc3ccco3)C...</td>\n      <td>1</td>\n      <td>2.83782</td>\n      <td>35</td>\n      <td>8</td>\n      <td>9</td>\n      <td>2</td>\n      <td>477.589</td>\n      <td>9</td>\n      <td>5</td>\n      <td>1.436707e+08</td>\n      <td>-3.30</td>\n      <td>184</td>\n      <td>1</td>\n      <td>1</td>\n      <td>4</td>\n      <td>3</td>\n      <td>0</td>\n      <td>9</td>\n      <td>2</td>\n    </tr>\n    <tr>\n      <th>3</th>\n      <td>CCN(CC)c1ccc2c(Cl)c(Br)c(=O)oc2c1</td>\n      <td>1</td>\n      <td>4.05510</td>\n      <td>18</td>\n      <td>3</td>\n      <td>5</td>\n      <td>0</td>\n      <td>330.609</td>\n      <td>3</td>\n      <td>2</td>\n      <td>1.207136e+04</td>\n      <td>-1.00</td>\n      <td>96</td>\n      <td>0</td>\n      <td>0</td>\n      <td>2</td>\n      <td>1</td>\n      <td>0</td>\n      <td>3</td>\n      <td>0</td>\n    </tr>\n    <tr>\n      <th>4</th>\n      <td>CS(=O)(=O)N1CCc2cc(-c3csc(NC(=O)Cc4cccs4)n3)ccc21</td>\n      <td>1</td>\n      <td>3.37490</td>\n      <td>27</td>\n      <td>6</td>\n      <td>9</td>\n      <td>1</td>\n      <td>419.553</td>\n      <td>5</td>\n      <td>4</td>\n      <td>1.948182e+06</td>\n      <td>-2.23</td>\n      <td>140</td>\n      <td>0</td>\n      <td>1</td>\n      <td>3</td>\n      <td>2</td>\n      <td>1</td>\n      <td>6</td>\n      <td>1</td>\n    </tr>\n    <tr>\n      <th>...</th>\n      <td>...</td>\n      <td>...</td>\n      <td>...</td>\n      <td>...</td>\n      <td>...</td>\n      <td>...</td>\n      <td>...</td>\n      <td>...</td>\n      <td>...</td>\n      <td>...</td>\n      <td>...</td>\n      <td>...</td>\n      <td>...</td>\n      <td>...</td>\n      <td>...</td>\n      <td>...</td>\n      <td>...</td>\n      <td>...</td>\n      <td>...</td>\n      <td>...</td>\n    </tr>\n    <tr>\n      <th>995</th>\n      <td>COc1ccc(N2C(=O)CC([NH2+]C3CC3)C2=O)cc1</td>\n      <td>0</td>\n      <td>0.05290</td>\n      <td>19</td>\n      <td>3</td>\n      <td>5</td>\n      <td>1</td>\n      <td>261.301</td>\n      <td>4</td>\n      <td>3</td>\n      <td>4.581294e+04</td>\n      <td>-1.88</td>\n      <td>100</td>\n      <td>2</td>\n      <td>2</td>\n      <td>1</td>\n      <td>0</td>\n      <td>2</td>\n      <td>5</td>\n      <td>2</td>\n    </tr>\n    <tr>\n      <th>996</th>\n      <td>CCNc1oc(COc2cccc(C)c2)nc1C#N</td>\n      <td>0</td>\n      <td>2.86550</td>\n      <td>19</td>\n      <td>5</td>\n      <td>5</td>\n      <td>1</td>\n      <td>257.293</td>\n      <td>5</td>\n      <td>2</td>\n      <td>2.727871e+04</td>\n      <td>-2.48</td>\n      <td>98</td>\n      <td>0</td>\n      <td>0</td>\n      <td>2</td>\n      <td>1</td>\n      <td>0</td>\n      <td>5</td>\n      <td>1</td>\n    </tr>\n    <tr>\n      <th>997</th>\n      <td>NC(=O)Cn1cnc(-c2ccccc2)c1</td>\n      <td>0</td>\n      <td>1.03540</td>\n      <td>15</td>\n      <td>3</td>\n      <td>4</td>\n      <td>1</td>\n      <td>201.229</td>\n      <td>3</td>\n      <td>2</td>\n      <td>4.126498e+03</td>\n      <td>-2.10</td>\n      <td>76</td>\n      <td>0</td>\n      <td>0</td>\n      <td>2</td>\n      <td>1</td>\n      <td>1</td>\n      <td>4</td>\n      <td>2</td>\n    </tr>\n    <tr>\n      <th>998</th>\n      <td>Cc1cc(NC(=O)CSc2nc3c(c(=O)n(C)c(=O)n3C)n2C(C)C...</td>\n      <td>0</td>\n      <td>1.04182</td>\n      <td>27</td>\n      <td>10</td>\n      <td>11</td>\n      <td>1</td>\n      <td>392.441</td>\n      <td>5</td>\n      <td>3</td>\n      <td>1.115768e+06</td>\n      <td>-2.82</td>\n      <td>144</td>\n      <td>0</td>\n      <td>0</td>\n      <td>3</td>\n      <td>3</td>\n      <td>1</td>\n      <td>10</td>\n      <td>1</td>\n    </tr>\n    <tr>\n      <th>999</th>\n      <td>O=C(Cn1nnc2c(cnn2-c2ccccc2)c1=O)NCc1cccs1</td>\n      <td>0</td>\n      <td>1.35510</td>\n      <td>26</td>\n      <td>8</td>\n      <td>9</td>\n      <td>1</td>\n      <td>366.406</td>\n      <td>5</td>\n      <td>4</td>\n      <td>1.794217e+06</td>\n      <td>-3.33</td>\n      <td>130</td>\n      <td>0</td>\n      <td>0</td>\n      <td>4</td>\n      <td>3</td>\n      <td>1</td>\n      <td>8</td>\n      <td>1</td>\n    </tr>\n  </tbody>\n</table>\n<p>1000 rows × 20 columns</p>\n</div>"
     },
     "execution_count": 90,
     "metadata": {},
     "output_type": "execute_result"
    }
   ],
   "source": [
    "data"
   ]
  },
  {
   "cell_type": "code",
   "execution_count": 91,
   "outputs": [
    {
     "name": "stdout",
     "output_type": "stream",
     "text": [
      "Amount of duplicated rows: 0\n",
      "Amount of missing data per column:\n",
      " SMILES                 0\n",
      "ALDH1_inhibition       0\n",
      "MolLogP                0\n",
      "HeavyAtomCount         0\n",
      "HAccept                0\n",
      "Heteroatoms            0\n",
      "HDonor                 0\n",
      "MolWt                  0\n",
      "RotableBonds           0\n",
      "RingCount              0\n",
      "Ipc                    0\n",
      "HallKierAlpha          0\n",
      "NumValenceElectrons    0\n",
      "SaturatedRings         0\n",
      "AliphaticRings         0\n",
      "AromaticRings          0\n",
      "Heterocycles           0\n",
      "AmideBonds             0\n",
      "LipinskiHBA            0\n",
      "LipinskiHBD            0\n",
      "dtype: int64\n"
     ]
    }
   ],
   "source": [
    "# Check for duplicated rows\n",
    "duplicated_rows = data.duplicated()\n",
    "sum_duplicated_rows = duplicated_rows.sum()\n",
    "print(\"Amount of duplicated rows:\", sum_duplicated_rows)\n",
    "\n",
    "# Check for missing data\n",
    "missing_data = data.isnull().sum()\n",
    "print('Amount of missing data per column:\\n', missing_data)"
   ],
   "metadata": {
    "collapsed": false,
    "pycharm": {
     "name": "#%%\n"
    }
   }
  },
  {
   "cell_type": "markdown",
   "source": [
    "<h2>Exploratory Data analysis</h2>"
   ],
   "metadata": {
    "collapsed": false,
    "pycharm": {
     "name": "#%% md\n"
    }
   }
  },
  {
   "cell_type": "code",
   "execution_count": 103,
   "id": "daea1d2e",
   "metadata": {},
   "outputs": [
    {
     "name": "stdout",
     "output_type": "stream",
     "text": [
      "The correlation between the binary results and the variables (high to low):\n",
      " MolWt                  0.146653\n",
      "HeavyAtomCount         0.127556\n",
      "NumValenceElectrons    0.118910\n",
      "RingCount              0.113688\n",
      "Heteroatoms            0.111909\n",
      "HAccept                0.108694\n",
      "AliphaticRings         0.094785\n",
      "MolLogP                0.093240\n",
      "LipinskiHBA            0.087870\n",
      "HallKierAlpha          0.074968\n",
      "RotableBonds           0.060500\n",
      "SaturatedRings         0.053336\n",
      "LipinskiHBD            0.043226\n",
      "HDonor                 0.036696\n",
      "AromaticRings          0.034309\n",
      "Ipc                    0.012114\n",
      "AmideBonds             0.011479\n",
      "Heterocycles           0.007696\n",
      "dtype: float64\n"
     ]
    }
   ],
   "source": [
    "# Calculate the correlation between 'ALH1_inhibition' column and other variables\n",
    "correlation = data.iloc[:, 2:].corrwith(data['ALDH1_inhibition'])\n",
    "\n",
    "# Sort the correlation values from high to low\n",
    "correlation_sorted = abs(correlation).sort_values(ascending=False)\n",
    "\n",
    "print('The correlation between the binary results and the variables (high to low):\\n'\n",
    "      ,correlation_sorted)"
   ]
  },
  {
   "cell_type": "code",
   "execution_count": 95,
   "outputs": [
    {
     "name": "stdout",
     "output_type": "stream",
     "text": [
      "ALDH1_inhibition\n",
      "0    70.0\n",
      "1    30.0\n",
      "Name: proportion, dtype: float64\n"
     ]
    }
   ],
   "source": [
    "# Calculate the distribution of 'ALH1_inhibition' column as percentages\n",
    "distribution = data['ALDH1_inhibition'].value_counts(normalize=True) * 100\n",
    "print(distribution)\n",
    "\n",
    "#TODO: data is niet gelijk verdeeld, er moet dus scaling nog gedaan worden"
   ],
   "metadata": {
    "collapsed": false,
    "pycharm": {
     "name": "#%%\n"
    }
   }
  },
  {
   "cell_type": "code",
   "execution_count": 84,
   "outputs": [
    {
     "data": {
      "text/plain": "\"\\ndata_boxplot = data.select_dtypes(exclude=['object','string'])\\nfor column in data_boxplot:\\n    plt.figure()\\n    data_boxplot.boxplot(by='ALDH1_inhibition',column= [column])\\n\""
     },
     "execution_count": 84,
     "metadata": {},
     "output_type": "execute_result"
    }
   ],
   "source": [
    "#Endless boxplot generating\n",
    "\"\"\"\n",
    "data_boxplot = data.select_dtypes(exclude=['object','string'])\n",
    "for column in data_boxplot:\n",
    "    plt.figure()\n",
    "    data_boxplot.boxplot(by='ALDH1_inhibition',column= [column])\n",
    "\"\"\""
   ],
   "metadata": {
    "collapsed": false,
    "pycharm": {
     "name": "#%%\n"
    }
   }
  },
  {
   "cell_type": "code",
   "execution_count": 68,
   "outputs": [
    {
     "name": "stderr",
     "output_type": "stream",
     "text": [
      "D:\\Docs\\8CC00\\8CC00env\\lib\\site-packages\\ptitprince\\PtitPrince.py:61: FutureWarning: In the future `np.bool` will be defined as the corresponding NumPy scalar.\n",
      "  hue_mask = np.ones(group_data.size, np.bool)\n"
     ]
    },
    {
     "ename": "AttributeError",
     "evalue": "module 'numpy' has no attribute 'bool'.\n`np.bool` was a deprecated alias for the builtin `bool`. To avoid this error in existing code, use `bool` by itself. Doing this will not modify any behavior and is safe. If you specifically wanted the numpy scalar type, use `np.bool_` here.\nThe aliases was originally deprecated in NumPy 1.20; for more details and guidance see the original release note at:\n    https://numpy.org/devdocs/release/1.20.0-notes.html#deprecations",
     "output_type": "error",
     "traceback": [
      "\u001B[1;31m---------------------------------------------------------------------------\u001B[0m",
      "\u001B[1;31mAttributeError\u001B[0m                            Traceback (most recent call last)",
      "Cell \u001B[1;32mIn[68], line 19\u001B[0m\n\u001B[0;32m     16\u001B[0m sigma \u001B[38;5;241m=\u001B[39m \u001B[38;5;241m.2\u001B[39m\n\u001B[0;32m     18\u001B[0m \u001B[38;5;66;03m# Create a new figure and axes\u001B[39;00m\n\u001B[1;32m---> 19\u001B[0m f, ax \u001B[38;5;241m=\u001B[39m \u001B[43mpt\u001B[49m\u001B[38;5;241;43m.\u001B[39;49m\u001B[43mRainCloud\u001B[49m\u001B[43m(\u001B[49m\u001B[43mx\u001B[49m\u001B[38;5;241;43m=\u001B[39;49m\u001B[43mdx\u001B[49m\u001B[43m,\u001B[49m\u001B[43m \u001B[49m\u001B[43my\u001B[49m\u001B[38;5;241;43m=\u001B[39;49m\u001B[43mdy\u001B[49m\u001B[43m,\u001B[49m\u001B[43m \u001B[49m\u001B[43mdata\u001B[49m\u001B[38;5;241;43m=\u001B[39;49m\u001B[43mdata\u001B[49m\u001B[43m,\u001B[49m\u001B[43m \u001B[49m\u001B[43mpalette\u001B[49m\u001B[38;5;241;43m=\u001B[39;49m\u001B[43mpal\u001B[49m\u001B[43m,\u001B[49m\u001B[43m \u001B[49m\u001B[43mbw\u001B[49m\u001B[38;5;241;43m=\u001B[39;49m\u001B[43msigma\u001B[49m\u001B[43m,\u001B[49m\u001B[43m \u001B[49m\u001B[43mwidth_viol\u001B[49m\u001B[38;5;241;43m=\u001B[39;49m\u001B[38;5;241;43m.6\u001B[39;49m\u001B[43m,\u001B[49m\u001B[43m \u001B[49m\u001B[43morient\u001B[49m\u001B[38;5;241;43m=\u001B[39;49m\u001B[43mort\u001B[49m\u001B[43m,\u001B[49m\u001B[43m \u001B[49m\u001B[43mmove\u001B[49m\u001B[38;5;241;43m=\u001B[39;49m\u001B[38;5;241;43m.2\u001B[39;49m\u001B[43m)\u001B[49m\n\u001B[0;32m     21\u001B[0m \u001B[38;5;66;03m# Set the title and labels\u001B[39;00m\n\u001B[0;32m     22\u001B[0m ax\u001B[38;5;241m.\u001B[39mset_title(\u001B[38;5;124mf\u001B[39m\u001B[38;5;124m\"\u001B[39m\u001B[38;5;124mRaincloud plot \u001B[39m\u001B[38;5;132;01m{\u001B[39;00mdy\u001B[38;5;132;01m}\u001B[39;00m\u001B[38;5;124m vs diagnostic label\u001B[39m\u001B[38;5;124m\"\u001B[39m)\n",
      "File \u001B[1;32mD:\\Docs\\8CC00\\8CC00env\\lib\\site-packages\\ptitprince\\PtitPrince.py:779\u001B[0m, in \u001B[0;36mRainCloud\u001B[1;34m(x, y, hue, data, order, hue_order, orient, width_viol, width_box, palette, bw, linewidth, cut, scale, jitter, move, offset, point_size, ax, pointplot, alpha, dodge, linecolor, **kwargs)\u001B[0m\n\u001B[0;32m    776\u001B[0m     _ \u001B[38;5;241m=\u001B[39m plt\u001B[38;5;241m.\u001B[39msetp(ax\u001B[38;5;241m.\u001B[39mcollections \u001B[38;5;241m+\u001B[39m ax\u001B[38;5;241m.\u001B[39martists, alpha \u001B[38;5;241m=\u001B[39m alpha)\n\u001B[0;32m    778\u001B[0m \u001B[38;5;66;03m# Draw rain/stripplot\u001B[39;00m\n\u001B[1;32m--> 779\u001B[0m ax \u001B[38;5;241m=\u001B[39m  stripplot (x \u001B[38;5;241m=\u001B[39m x, y \u001B[38;5;241m=\u001B[39m y, hue \u001B[38;5;241m=\u001B[39m hue, data \u001B[38;5;241m=\u001B[39m data, orient \u001B[38;5;241m=\u001B[39m orient,\n\u001B[0;32m    780\u001B[0m                 order \u001B[38;5;241m=\u001B[39m order, hue_order \u001B[38;5;241m=\u001B[39m hue_order, palette \u001B[38;5;241m=\u001B[39m palette,\n\u001B[0;32m    781\u001B[0m                 move \u001B[38;5;241m=\u001B[39m move, size \u001B[38;5;241m=\u001B[39m point_size, jitter \u001B[38;5;241m=\u001B[39m jitter, dodge \u001B[38;5;241m=\u001B[39m dodge,\n\u001B[0;32m    782\u001B[0m                 width \u001B[38;5;241m=\u001B[39m width_box, ax \u001B[38;5;241m=\u001B[39m ax, \u001B[38;5;241m*\u001B[39m\u001B[38;5;241m*\u001B[39mkwrain)\n\u001B[0;32m    784\u001B[0m \u001B[38;5;66;03m# Add pointplot\u001B[39;00m\n\u001B[0;32m    785\u001B[0m \u001B[38;5;28;01mif\u001B[39;00m pointplot:\n",
      "File \u001B[1;32mD:\\Docs\\8CC00\\8CC00env\\lib\\site-packages\\ptitprince\\PtitPrince.py:671\u001B[0m, in \u001B[0;36mstripplot\u001B[1;34m(x, y, hue, data, order, hue_order, jitter, dodge, orient, color, palette, move, size, edgecolor, linewidth, ax, width, **kwargs)\u001B[0m\n\u001B[0;32m    666\u001B[0m     edgecolor \u001B[38;5;241m=\u001B[39m plotter\u001B[38;5;241m.\u001B[39mgray\n\u001B[0;32m    667\u001B[0m kwargs\u001B[38;5;241m.\u001B[39mupdate(\u001B[38;5;28mdict\u001B[39m(s\u001B[38;5;241m=\u001B[39msize \u001B[38;5;241m*\u001B[39m\u001B[38;5;241m*\u001B[39m \u001B[38;5;241m2\u001B[39m,\n\u001B[0;32m    668\u001B[0m                    edgecolor\u001B[38;5;241m=\u001B[39medgecolor,\n\u001B[0;32m    669\u001B[0m                    linewidth\u001B[38;5;241m=\u001B[39mlinewidth))\n\u001B[1;32m--> 671\u001B[0m \u001B[43mplotter\u001B[49m\u001B[38;5;241;43m.\u001B[39;49m\u001B[43mplot\u001B[49m\u001B[43m(\u001B[49m\u001B[43max\u001B[49m\u001B[43m,\u001B[49m\u001B[43m \u001B[49m\u001B[43mkwargs\u001B[49m\u001B[43m)\u001B[49m\n\u001B[0;32m    672\u001B[0m \u001B[38;5;28;01mreturn\u001B[39;00m ax\n",
      "File \u001B[1;32mD:\\Docs\\8CC00\\8CC00env\\lib\\site-packages\\ptitprince\\PtitPrince.py:98\u001B[0m, in \u001B[0;36m_StripPlotter.plot\u001B[1;34m(self, ax, kws)\u001B[0m\n\u001B[0;32m     96\u001B[0m \u001B[38;5;28;01mdef\u001B[39;00m \u001B[38;5;21mplot\u001B[39m(\u001B[38;5;28mself\u001B[39m, ax, kws):\n\u001B[0;32m     97\u001B[0m \u001B[38;5;250m    \u001B[39m\u001B[38;5;124;03m\"\"\"Make the plot.\"\"\"\u001B[39;00m\n\u001B[1;32m---> 98\u001B[0m     \u001B[38;5;28;43mself\u001B[39;49m\u001B[38;5;241;43m.\u001B[39;49m\u001B[43mdraw_stripplot\u001B[49m\u001B[43m(\u001B[49m\u001B[43max\u001B[49m\u001B[43m,\u001B[49m\u001B[43m \u001B[49m\u001B[43mkws\u001B[49m\u001B[43m)\u001B[49m\n\u001B[0;32m     99\u001B[0m     \u001B[38;5;28mself\u001B[39m\u001B[38;5;241m.\u001B[39madd_legend_data(ax)\n\u001B[0;32m    100\u001B[0m     \u001B[38;5;28mself\u001B[39m\u001B[38;5;241m.\u001B[39mannotate_axes(ax)\n",
      "File \u001B[1;32mD:\\Docs\\8CC00\\8CC00env\\lib\\site-packages\\ptitprince\\PtitPrince.py:61\u001B[0m, in \u001B[0;36m_StripPlotter.draw_stripplot\u001B[1;34m(self, ax, kws)\u001B[0m\n\u001B[0;32m     58\u001B[0m \u001B[38;5;28;01mif\u001B[39;00m \u001B[38;5;28mself\u001B[39m\u001B[38;5;241m.\u001B[39mplot_hues \u001B[38;5;129;01mis\u001B[39;00m \u001B[38;5;28;01mNone\u001B[39;00m \u001B[38;5;129;01mor\u001B[39;00m \u001B[38;5;129;01mnot\u001B[39;00m \u001B[38;5;28mself\u001B[39m\u001B[38;5;241m.\u001B[39mdodge:\n\u001B[0;32m     60\u001B[0m     \u001B[38;5;28;01mif\u001B[39;00m \u001B[38;5;28mself\u001B[39m\u001B[38;5;241m.\u001B[39mhue_names \u001B[38;5;129;01mis\u001B[39;00m \u001B[38;5;28;01mNone\u001B[39;00m:\n\u001B[1;32m---> 61\u001B[0m         hue_mask \u001B[38;5;241m=\u001B[39m np\u001B[38;5;241m.\u001B[39mones(group_data\u001B[38;5;241m.\u001B[39msize, \u001B[43mnp\u001B[49m\u001B[38;5;241;43m.\u001B[39;49m\u001B[43mbool\u001B[49m)\n\u001B[0;32m     62\u001B[0m     \u001B[38;5;28;01melse\u001B[39;00m:\n\u001B[0;32m     63\u001B[0m         hue_mask \u001B[38;5;241m=\u001B[39m np\u001B[38;5;241m.\u001B[39marray([h \u001B[38;5;129;01min\u001B[39;00m \u001B[38;5;28mself\u001B[39m\u001B[38;5;241m.\u001B[39mhue_names\n\u001B[0;32m     64\u001B[0m                              \u001B[38;5;28;01mfor\u001B[39;00m h \u001B[38;5;129;01min\u001B[39;00m \u001B[38;5;28mself\u001B[39m\u001B[38;5;241m.\u001B[39mplot_hues[i]], np\u001B[38;5;241m.\u001B[39mbool)\n",
      "File \u001B[1;32mD:\\Docs\\8CC00\\8CC00env\\lib\\site-packages\\numpy\\__init__.py:305\u001B[0m, in \u001B[0;36m__getattr__\u001B[1;34m(attr)\u001B[0m\n\u001B[0;32m    300\u001B[0m     warnings\u001B[38;5;241m.\u001B[39mwarn(\n\u001B[0;32m    301\u001B[0m         \u001B[38;5;124mf\u001B[39m\u001B[38;5;124m\"\u001B[39m\u001B[38;5;124mIn the future `np.\u001B[39m\u001B[38;5;132;01m{\u001B[39;00mattr\u001B[38;5;132;01m}\u001B[39;00m\u001B[38;5;124m` will be defined as the \u001B[39m\u001B[38;5;124m\"\u001B[39m\n\u001B[0;32m    302\u001B[0m         \u001B[38;5;124m\"\u001B[39m\u001B[38;5;124mcorresponding NumPy scalar.\u001B[39m\u001B[38;5;124m\"\u001B[39m, \u001B[38;5;167;01mFutureWarning\u001B[39;00m, stacklevel\u001B[38;5;241m=\u001B[39m\u001B[38;5;241m2\u001B[39m)\n\u001B[0;32m    304\u001B[0m \u001B[38;5;28;01mif\u001B[39;00m attr \u001B[38;5;129;01min\u001B[39;00m __former_attrs__:\n\u001B[1;32m--> 305\u001B[0m     \u001B[38;5;28;01mraise\u001B[39;00m \u001B[38;5;167;01mAttributeError\u001B[39;00m(__former_attrs__[attr])\n\u001B[0;32m    307\u001B[0m \u001B[38;5;66;03m# Importing Tester requires importing all of UnitTest which is not a\u001B[39;00m\n\u001B[0;32m    308\u001B[0m \u001B[38;5;66;03m# cheap import Since it is mainly used in test suits, we lazy import it\u001B[39;00m\n\u001B[0;32m    309\u001B[0m \u001B[38;5;66;03m# here to save on the order of 10 ms of import time for most users\u001B[39;00m\n\u001B[0;32m    310\u001B[0m \u001B[38;5;66;03m#\u001B[39;00m\n\u001B[0;32m    311\u001B[0m \u001B[38;5;66;03m# The previous way Tester was imported also had a side effect of adding\u001B[39;00m\n\u001B[0;32m    312\u001B[0m \u001B[38;5;66;03m# the full `numpy.testing` namespace\u001B[39;00m\n\u001B[0;32m    313\u001B[0m \u001B[38;5;28;01mif\u001B[39;00m attr \u001B[38;5;241m==\u001B[39m \u001B[38;5;124m'\u001B[39m\u001B[38;5;124mtesting\u001B[39m\u001B[38;5;124m'\u001B[39m:\n",
      "\u001B[1;31mAttributeError\u001B[0m: module 'numpy' has no attribute 'bool'.\n`np.bool` was a deprecated alias for the builtin `bool`. To avoid this error in existing code, use `bool` by itself. Doing this will not modify any behavior and is safe. If you specifically wanted the numpy scalar type, use `np.bool_` here.\nThe aliases was originally deprecated in NumPy 1.20; for more details and guidance see the original release note at:\n    https://numpy.org/devdocs/release/1.20.0-notes.html#deprecations"
     ]
    },
    {
     "data": {
      "text/plain": "<Figure size 640x480 with 1 Axes>",
      "image/png": "[encoded data removed]"
     },
     "metadata": {},
     "output_type": "display_data"
    }
   ],
   "source": [
    "#TODO: The figures are not saving and i do not know why. I think these rain plots are better then the simple boxplots.\n",
    "\n",
    "import os\n",
    "import seaborn as sns\n",
    "import ptitprince as pt\n",
    "\n",
    "# Variables\n",
    "savefigs = True\n",
    "variable_to_fig = 'MolLogP'\n",
    "figs_dir = r'D:\\Docs\\8CC00\\figs group AP'\n",
    "\n",
    "# Main code\n",
    "sns.set(style=\"whitegrid\", font_scale=2)\n",
    "dx = \"ALDH1_inhibition\"\n",
    "dy = variable_to_fig\n",
    "ort = \"h\"\n",
    "pal = \"Set2\"\n",
    "sigma = .2\n",
    "\n",
    "# Create a new figure and axes\n",
    "f, ax = pt.RainCloud(x=dx, y=dy, data=data, palette=pal, bw=sigma, width_viol=.6, orient=ort, move=.2)\n",
    "\n",
    "# Set the title and labels\n",
    "ax.set_title(f\"Raincloud plot {dy} vs diagnostic label\")\n",
    "ax.set_ylabel('Diagnostic label')\n",
    "\n",
    "if savefigs:\n",
    "    os.makedirs(figs_dir, exist_ok=True)\n",
    "    fig_path = os.path.join(figs_dir, f'raincloud_{dy}.png')\n",
    "    f.savefig(fig_path, bbox_inches='tight', facecolor='white')\n",
    "    print(f\"Plot saved at: {fig_path}\")\n",
    "\n",
    "sns.reset_orig()"
   ],
   "metadata": {
    "collapsed": false,
    "pycharm": {
     "name": "#%%\n"
    }
   }
  },
  {
   "cell_type": "markdown",
   "id": "a121d709",
   "metadata": {
    "pycharm": {
     "name": "#%% md\n"
    }
   },
   "source": [
    "<h2>Identification of structure-activity relationships</h2>"
   ]
  },
  {
   "cell_type": "code",
   "execution_count": 105,
   "outputs": [],
   "source": [
    "import pandas as pd\n",
    "from sklearn.model_selection import train_test_split\n",
    "from sklearn.linear_model import LogisticRegression\n",
    "from sklearn.metrics import accuracy_score"
   ],
   "metadata": {
    "collapsed": false,
    "pycharm": {
     "name": "#%%\n"
    }
   }
  },
  {
   "cell_type": "code",
   "execution_count": 118,
   "outputs": [],
   "source": [
    "X = data.iloc[:, 2:]  # Features\n",
    "y = data.iloc[:, 1]  # ALDH1_inhibition\n",
    "\n",
    "X_train, X_test, y_train, y_test = train_test_split(X, y, stratify=y, test_size=0.2, random_state=42)"
   ],
   "metadata": {
    "collapsed": false,
    "pycharm": {
     "name": "#%%\n"
    }
   }
  },
  {
   "cell_type": "code",
   "execution_count": 119,
   "outputs": [
    {
     "name": "stdout",
     "output_type": "stream",
     "text": [
      "Accuracy: 0.7\n"
     ]
    }
   ],
   "source": [
    "model = LogisticRegression()\n",
    "model.fit(X_train, y_train)\n",
    "y_pred = model.predict(X_test)\n",
    "\n",
    "accuracy = accuracy_score(y_test, y_pred)\n",
    "print(\"Accuracy:\", accuracy)"
   ],
   "metadata": {
    "collapsed": false,
    "pycharm": {
     "name": "#%%\n"
    }
   }
  },
  {
   "cell_type": "code",
   "execution_count": null,
   "outputs": [],
   "source": [
    "#TODO save the model"
   ],
   "metadata": {
    "collapsed": false,
    "pycharm": {
     "name": "#%%\n"
    }
   }
  },
  {
   "cell_type": "markdown",
   "source": [
    "<h2>Selection of top 100</h2>"
   ],
   "metadata": {
    "collapsed": false,
    "pycharm": {
     "name": "#%% md\n"
    }
   }
  },
  {
   "cell_type": "code",
   "execution_count": null,
   "outputs": [],
   "source": [
    "#TODO use the model to predict which of the molecules will be succesfull.\n",
    "#TODO find out how we are selecting the best choices"
   ],
   "metadata": {
    "collapsed": false,
    "pycharm": {
     "name": "#%%\n"
    }
   }
  }
 ],
 "metadata": {
  "kernelspec": {
   "display_name": "Python 3 (ipykernel)",
   "language": "python",
   "name": "python3"
  },
  "language_info": {
   "codemirror_mode": {
    "name": "ipython",
    "version": 3
   },
   "file_extension": ".py",
   "mimetype": "text/x-python",
   "name": "python",
   "nbconvert_exporter": "python",
   "pygments_lexer": "ipython3",
   "version": "3.9.16"
  }
 },
 "nbformat": 4,
 "nbformat_minor": 5
}